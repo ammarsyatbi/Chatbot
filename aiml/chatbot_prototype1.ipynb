{
 "cells": [
  {
   "cell_type": "code",
   "execution_count": null,
   "metadata": {},
   "outputs": [],
   "source": []
  },
  {
   "cell_type": "code",
   "execution_count": 1,
   "metadata": {},
   "outputs": [
    {
     "data": {
      "text/plain": [
       "'3.8.1'"
      ]
     },
     "execution_count": 1,
     "metadata": {},
     "output_type": "execute_result"
    }
   ],
   "source": [
    "import pyttsx3;\n",
    "import aiml\n",
    "import os\n",
    "import speech_recognition as sr\n",
    "sr.__version__"
   ]
  },
  {
   "cell_type": "code",
   "execution_count": 2,
   "metadata": {},
   "outputs": [
    {
     "name": "stdout",
     "output_type": "stream",
     "text": [
      "Loading std-startup.xml...done (0.00 seconds)\n",
      "Loading basic_chat.aiml...done (0.00 seconds)\n",
      "Loading search_intern.aiml...done (0.00 seconds)\n",
      "Loading alice/sports.aiml...done (0.00 seconds)\n",
      "Loading alice/that.aiml...done (0.08 seconds)\n",
      "Loading alice/science.aiml...done (0.00 seconds)\n",
      "Loading alice/computers.aiml...done (0.00 seconds)\n",
      "Loading alice/alice.aiml...done (0.01 seconds)\n",
      "Loading alice/mp1.aiml...done (0.19 seconds)\n",
      "Loading alice/reduction.names.aiml...done (0.14 seconds)\n",
      "Loading alice/mp3.aiml...done (0.24 seconds)\n",
      "Loading alice/humor.aiml...done (0.00 seconds)\n",
      "Loading alice/personality.aiml...done (0.01 seconds)\n",
      "Loading alice/knowledge.aiml...done (0.06 seconds)\n",
      "Loading alice/stack.aiml...done (0.00 seconds)\n",
      "Loading alice/reduction2.safe.aiml...done (0.12 seconds)\n",
      "Loading alice/update1.aiml...done (0.12 seconds)\n",
      "Loading alice/inquiry.aiml...done (0.00 seconds)\n",
      "Loading alice/phone.aiml...done (0.00 seconds)\n",
      "Loading alice/continuation.aiml...done (0.00 seconds)\n",
      "Loading alice/salutations.aiml...done (0.01 seconds)\n",
      "Loading alice/ai.aiml...done (0.01 seconds)\n",
      "Loading alice/wallace.aiml...done (0.02 seconds)\n",
      "Loading alice/client.aiml...done (0.04 seconds)\n",
      "Loading alice/psychology.aiml...done (0.02 seconds)\n",
      "Loading alice/sex.aiml...done (0.01 seconds)\n",
      "Loading alice/history.aiml...done (0.00 seconds)\n",
      "Loading alice/biography.aiml...done (0.02 seconds)\n",
      "Loading alice/mp6.aiml...done (0.15 seconds)\n",
      "Loading alice/loebner10.aiml...done (0.00 seconds)\n",
      "Loading alice/literature.aiml...done (0.00 seconds)\n",
      "Loading alice/mp0.aiml...done (0.16 seconds)\n",
      "Loading alice/client_profile.aiml...done (0.01 seconds)\n",
      "Loading alice/date.aiml...done (0.00 seconds)\n",
      "Loading alice/reduction4.safe.aiml...done (0.22 seconds)\n",
      "Loading alice/mp5.aiml...done (0.15 seconds)\n",
      "Loading alice/reduction0.safe.aiml...done (0.37 seconds)\n",
      "Loading alice/stories.aiml...done (0.02 seconds)\n",
      "Loading alice/geography.aiml...done (0.04 seconds)\n",
      "Loading alice/mp2.aiml...done (0.16 seconds)\n",
      "Loading alice/astrology.aiml...done (0.00 seconds)\n",
      "Loading alice/emotion.aiml...done (0.01 seconds)\n",
      "Loading alice/iu.aiml...done (0.00 seconds)\n",
      "Loading alice/music.aiml...done (0.00 seconds)\n",
      "Loading alice/food.aiml...done (0.00 seconds)\n",
      "Loading alice/reduction3.safe.aiml...done (0.27 seconds)\n",
      "Loading alice/money.aiml...done (0.00 seconds)\n",
      "Loading alice/interjection.aiml...done (0.00 seconds)\n",
      "Loading alice/movies.aiml...done (0.00 seconds)\n",
      "Loading alice/imponderables.aiml...done (0.00 seconds)\n",
      "Loading alice/xfind.aiml...done (0.00 seconds)\n",
      "Loading alice/atomic.aiml...done (0.09 seconds)\n",
      "Loading alice/bot_profile.aiml...done (0.00 seconds)\n",
      "Loading alice/drugs.aiml...done (0.00 seconds)\n",
      "Loading alice/bot.aiml...done (0.10 seconds)\n",
      "Loading alice/pickup.aiml...done (0.00 seconds)\n",
      "Loading alice/mp4.aiml...done (0.15 seconds)\n",
      "Loading alice/numbers.aiml...done (0.01 seconds)\n",
      "Loading alice/default.aiml...done (0.35 seconds)\n",
      "Loading alice/update_mccormick.aiml...done (0.00 seconds)\n",
      "Loading alice/reductions-update.aiml...done (0.00 seconds)\n",
      "Loading alice/reduction1.safe.aiml...done (0.19 seconds)\n",
      "Loading alice/religion.aiml...done (0.02 seconds)\n",
      "Loading alice/gossip.aiml...done (0.00 seconds)\n",
      "Loading alice/politics.aiml...done (0.00 seconds)\n",
      "Loading alice/primeminister.aiml...done (0.00 seconds)\n",
      "\n",
      "Kernel bootstrap completed in 3.60 seconds\n",
      "Done initializing chatbot.\n"
     ]
    }
   ],
   "source": [
    "# BOT INITIALIZATION\n",
    "def load_bot_properties(kernel, filename):\n",
    "    properties_file = open(filename)\n",
    "    for line in properties_file:\n",
    "      parts = line.split('=')\n",
    "      key = parts[0]\n",
    "      value = parts[1]\n",
    "      kernel.setBotPredicate(key, value)\n",
    "    print('Done initializing chatbot.')\n",
    "    \n",
    "kernel = aiml.Kernel()\n",
    "\n",
    "# Setsession\n",
    "# sessionId = 12345\n",
    "# sessionData = kernel.getSessionData(sessionId)\n",
    "\n",
    "kernel.setBotPredicate(\"hometown\", \"127.0.0.1\")\n",
    "bot_hometown = kernel.getBotPredicate(\"hometown\")\n",
    "\n",
    "if os.path.isfile(\"bot_brain.brn\"):\n",
    "    kernel.bootstrap(brainFile = \"bot_brain.brn\")\n",
    "else:\n",
    "    kernel.bootstrap(learnFiles = \"std-startup.xml\", commands = \"load aiml b\")\n",
    "#     kernel.saveBrain(\"bot_brain.brn\")\n",
    "# kernel now ready for use\n",
    "load_bot_properties(kernel, \"bot.properties\")"
   ]
  },
  {
   "cell_type": "code",
   "execution_count": 3,
   "metadata": {},
   "outputs": [
    {
     "data": {
      "text/plain": [
       "[u'HDA Intel PCH: ALC887-VD Analog (hw:0,0)',\n",
       " u'HDA Intel PCH: ALC887-VD Alt Analog (hw:0,2)',\n",
       " u'HDA NVidia: HDMI 0 (hw:2,3)',\n",
       " u'HDA NVidia: HDMI 1 (hw:2,7)',\n",
       " u'HDA NVidia: HDMI 2 (hw:2,8)',\n",
       " u'sysdefault',\n",
       " u'front',\n",
       " u'surround40',\n",
       " u'surround51',\n",
       " u'surround71',\n",
       " u'pulse',\n",
       " u'dmix',\n",
       " u'default']"
      ]
     },
     "execution_count": 3,
     "metadata": {},
     "output_type": "execute_result"
    }
   ],
   "source": [
    "# SPEECH-TO-TEXT INITIALIZATION\n",
    "r = sr.Recognizer()\n",
    "mic = sr.Microphone()\n",
    "# Get all mic Index\n",
    "sr.Microphone.list_microphone_names()"
   ]
  },
  {
   "cell_type": "code",
   "execution_count": 4,
   "metadata": {},
   "outputs": [],
   "source": [
    "# mic = sr.Microphone(device_index=13)\n",
    "mic = sr.Microphone()\n",
    "# GOOGLE API\n",
    "# r.recognize_google()\n",
    "\n",
    "def recognize_speech_from_mic(recognizer, microphone):\n",
    "    # check that recognizer and microphone arguments are appropriate type\n",
    "    if not isinstance(recognizer, sr.Recognizer):\n",
    "        raise TypeError(\"`recognizer` must be `Recognizer` instance\")\n",
    "\n",
    "    if not isinstance(microphone, sr.Microphone):\n",
    "        raise TypeError(\"`microphone` must be `Microphone` instance\")\n",
    "\n",
    "    # adjust the recognizer sensitivity to ambient noise and record audio\n",
    "    # from the microphone\n",
    "    with microphone as source:\n",
    "        recognizer.adjust_for_ambient_noise(source, duration=2)\n",
    "        audio = recognizer.listen(source)\n",
    "\n",
    "    # set up the response object\n",
    "    response = {\n",
    "        \"success\": True,\n",
    "        \"error\": None,\n",
    "        \"transcription\": None\n",
    "    }\n",
    "\n",
    "    # try recognizing the speech in the recording\n",
    "    # if a RequestError or UnknownValueError exception is caught,\n",
    "    #     update the response object accordingly\n",
    "    try:\n",
    "        response[\"transcription\"] = recognizer.recognize_google(audio)\n",
    "    except sr.RequestError:\n",
    "        # API was unreachable or unresponsive\n",
    "        response[\"success\"] = False\n",
    "        response[\"error\"] = \"API unavailable\"\n",
    "    except sr.UnknownValueError:\n",
    "        # speech was unintelligible\n",
    "        response[\"error\"] = \"Unable to recognize speech\"\n",
    "\n",
    "    return response"
   ]
  },
  {
   "cell_type": "code",
   "execution_count": 5,
   "metadata": {},
   "outputs": [],
   "source": [
    "# SPEECH TO TEXT INITIALIZATION\n",
    "adam = pyttsx3.init();\n",
    "adam.setProperty('rate', 155);\n",
    "adam.say(\"Good morning.\");\n",
    "adam.runAndWait();"
   ]
  },
  {
   "cell_type": "code",
   "execution_count": 6,
   "metadata": {},
   "outputs": [
    {
     "name": "stdout",
     "output_type": "stream",
     "text": [
      "user : 123 testing 123 testing 123\n",
      "Bot : Tell me about your likes and dislikes?\n",
      "user : my name is Emma\n",
      "Bot : It's good to see you, Emma.\n",
      "user : mother\n",
      "Bot : I only have a father.\n",
      "user : my name is Emma\n",
      "Bot : It's good to see you, Emma.\n",
      "user : assalamualaikum\n",
      "Bot : Waalaikummussalam\n",
      "user : my\n",
      "Bot : I've been waiting for you.\n",
      "user : hey\n",
      "Bot : Uh.\n",
      "user : what is your name\n",
      "Bot : Adam\n",
      "user : your phone number\n",
      "Bot : That is your opinion.\n",
      "user : your phone number\n",
      "Bot : Thank you for your frankness.\n",
      "user : who are you\n",
      "Bot : Adam\n",
      "user : GoPro\n",
      "Bot : What is your current status?\n",
      "user : Harlow\n",
      "Bot : Updating your status to \"Harlow\".\n",
      "user : goodbye Adam\n",
      "Bot : bye !\n"
     ]
    }
   ],
   "source": [
    "PROMPT_LIMIT =3\n",
    "while True:\n",
    "    guess = recognize_speech_from_mic(r, mic)\n",
    "    if guess[\"transcription\"]:\n",
    "        print(\"user : \"+guess[\"transcription\"])\n",
    "        message = guess[\"transcription\"];\n",
    "        if message == \"goodbye Adam\":\n",
    "            print(\"Bot : bye !\");\n",
    "            adam.say('bye !');\n",
    "            adam.runAndWait();            \n",
    "            break\n",
    "        elif message == \"save\":\n",
    "            kernel.saveBrain(\"bot_brain.brn\")\n",
    "        else:\n",
    "            bot_response = kernel.respond(message)\n",
    "            print(\"Bot : \" + bot_response)\n",
    "            adam.say(bot_response);\n",
    "            adam.runAndWait();            \n",
    "    if not guess[\"success\"]:\n",
    "#         break\n",
    "        print(\"Bot : I didn't catch that. What did you say?\\n\")\n",
    "        adam.say(\"I didn't catch that. What did you say?\") \n",
    "        adam.runAndWait();        \n",
    "#         if not adam.isBusy():\n",
    "#             adam.runAndWait()\n",
    "    "
   ]
  },
  {
   "cell_type": "code",
   "execution_count": null,
   "metadata": {},
   "outputs": [],
   "source": []
  }
 ],
 "metadata": {
  "kernelspec": {
   "display_name": "Python 2",
   "language": "python",
   "name": "python2"
  },
  "language_info": {
   "codemirror_mode": {
    "name": "ipython",
    "version": 2
   },
   "file_extension": ".py",
   "mimetype": "text/x-python",
   "name": "python",
   "nbconvert_exporter": "python",
   "pygments_lexer": "ipython2",
   "version": "2.7.12"
  }
 },
 "nbformat": 4,
 "nbformat_minor": 2
}
