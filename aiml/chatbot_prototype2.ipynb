{
 "cells": [
  {
   "cell_type": "code",
   "execution_count": 1,
   "metadata": {},
   "outputs": [
    {
     "name": "stdout",
     "output_type": "stream",
     "text": [
      "pygame 1.9.4\n",
      "Hello from the pygame community. https://www.pygame.org/contribute.html\n"
     ]
    },
    {
     "data": {
      "text/plain": [
       "'3.8.1'"
      ]
     },
     "execution_count": 1,
     "metadata": {},
     "output_type": "execute_result"
    }
   ],
   "source": [
    "from gtts import gTTS\n",
    "import pygame\n",
    "import pyttsx3;\n",
    "import aiml\n",
    "import os\n",
    "import speech_recognition as sr\n",
    "sr.__version__"
   ]
  },
  {
   "cell_type": "code",
   "execution_count": 2,
   "metadata": {},
   "outputs": [
    {
     "name": "stdout",
     "output_type": "stream",
     "text": [
      "Loading std-startup.xml...done (0.02 seconds)\n",
      "Loading basic_chat.aiml...done (0.01 seconds)\n",
      "Loading search_intern.aiml...done (0.03 seconds)\n",
      "Loading alice/bot.aiml...done (0.24 seconds)\n",
      "Loading alice/salutations.aiml...done (0.00 seconds)\n",
      "Loading alice/mp6.aiml...done (0.07 seconds)\n",
      "Loading alice/humor.aiml...done (0.00 seconds)\n",
      "Loading alice/ai.aiml...done (0.01 seconds)\n",
      "Loading alice/biography.aiml...done (0.02 seconds)\n",
      "Loading alice/primeminister.aiml...done (0.00 seconds)\n",
      "Loading alice/update1.aiml...done (0.04 seconds)\n",
      "Loading alice/stack.aiml...done (0.00 seconds)\n",
      "Loading alice/that.aiml...done (0.08 seconds)\n",
      "Loading alice/astrology.aiml...done (0.00 seconds)\n",
      "Loading alice/reductions-update.aiml...done (0.00 seconds)\n",
      "Loading alice/reduction4.safe.aiml...done (0.10 seconds)\n",
      "Loading alice/literature.aiml...done (0.00 seconds)\n",
      "Loading alice/reduction.names.aiml...done (0.16 seconds)\n",
      "Loading alice/reduction2.safe.aiml...done (0.17 seconds)\n",
      "Loading alice/client_profile.aiml...done (0.01 seconds)\n",
      "Loading alice/mp3.aiml...done (0.12 seconds)\n",
      "Loading alice/interjection.aiml...done (0.00 seconds)\n",
      "Loading alice/mp1.aiml...done (0.22 seconds)\n",
      "Loading alice/sex.aiml...done (0.01 seconds)\n",
      "Loading alice/client.aiml...done (0.03 seconds)\n",
      "Loading alice/phone.aiml...done (0.00 seconds)\n",
      "Loading alice/stories.aiml...done (0.01 seconds)\n",
      "Loading alice/history.aiml...done (0.00 seconds)\n",
      "Loading alice/psychology.aiml...done (0.02 seconds)\n",
      "Loading alice/bot_profile.aiml...done (0.00 seconds)\n",
      "Loading alice/continuation.aiml...done (0.00 seconds)\n",
      "Loading alice/iu.aiml...done (0.00 seconds)\n",
      "Loading alice/computers.aiml...done (0.00 seconds)\n",
      "Loading alice/gossip.aiml...done (0.00 seconds)\n",
      "Loading alice/personality.aiml...done (0.02 seconds)\n",
      "Loading alice/science.aiml...done (0.00 seconds)\n",
      "Loading alice/politics.aiml...done (0.00 seconds)\n",
      "Loading alice/xfind.aiml...done (0.00 seconds)\n",
      "Loading alice/reduction1.safe.aiml...done (0.26 seconds)\n",
      "Loading alice/movies.aiml...done (0.00 seconds)\n",
      "Loading alice/inquiry.aiml...done (0.00 seconds)\n",
      "Loading alice/reduction0.safe.aiml...done (0.17 seconds)\n",
      "Loading alice/mp0.aiml...done (0.28 seconds)\n",
      "Loading alice/date.aiml...done (0.00 seconds)\n",
      "Loading alice/drugs.aiml...done (0.00 seconds)\n",
      "Loading alice/mp5.aiml...done (0.12 seconds)\n",
      "Loading alice/music.aiml...done (0.00 seconds)\n",
      "Loading alice/default.aiml...done (0.32 seconds)\n",
      "Loading alice/mp4.aiml...done (0.11 seconds)\n",
      "Loading alice/knowledge.aiml...done (0.05 seconds)\n",
      "Loading alice/geography.aiml...done (0.03 seconds)\n",
      "Loading alice/money.aiml...done (0.00 seconds)\n",
      "Loading alice/sports.aiml...done (0.00 seconds)\n",
      "Loading alice/emotion.aiml...done (0.00 seconds)\n",
      "Loading alice/numbers.aiml...done (0.01 seconds)\n",
      "Loading alice/reduction3.safe.aiml...done (0.09 seconds)\n",
      "Loading alice/mp2.aiml...done (0.36 seconds)\n",
      "Loading alice/pickup.aiml...done (0.00 seconds)\n",
      "Loading alice/imponderables.aiml...done (0.00 seconds)\n",
      "Loading alice/loebner10.aiml...done (0.00 seconds)\n",
      "Loading alice/update_mccormick.aiml...done (0.00 seconds)\n",
      "Loading alice/religion.aiml...done (0.01 seconds)\n",
      "Loading alice/wallace.aiml...done (0.02 seconds)\n",
      "Loading alice/food.aiml...done (0.00 seconds)\n",
      "Loading alice/alice.aiml...done (0.01 seconds)\n",
      "Loading alice/atomic.aiml...done (0.07 seconds)\n",
      "\n",
      "Kernel bootstrap completed in 3.44 seconds\n",
      "Done initializing chatbot.\n"
     ]
    }
   ],
   "source": [
    "# BOT INITIALIZATION\n",
    "def load_bot_properties(kernel, filename):\n",
    "    properties_file = open(filename)\n",
    "    for line in properties_file:\n",
    "      parts = line.split('=')\n",
    "      key = parts[0]\n",
    "      value = parts[1]\n",
    "      kernel.setBotPredicate(key, value)\n",
    "    print('Done initializing chatbot.')\n",
    "    \n",
    "kernel = aiml.Kernel()\n",
    "\n",
    "# Setsession\n",
    "# sessionId = 12345\n",
    "# sessionData = kernel.getSessionData(sessionId)\n",
    "\n",
    "kernel.setBotPredicate(\"hometown\", \"127.0.0.1\")\n",
    "bot_hometown = kernel.getBotPredicate(\"hometown\")\n",
    "\n",
    "if os.path.isfile(\"bot_brain.brn\"):\n",
    "    kernel.bootstrap(brainFile = \"bot_brain.brn\")\n",
    "else:\n",
    "    kernel.bootstrap(learnFiles = \"std-startup.xml\", commands = \"load aiml b\")\n",
    "#     kernel.saveBrain(\"bot_brain.brn\")\n",
    "# kernel now ready for use\n",
    "load_bot_properties(kernel, \"bot.properties\")"
   ]
  },
  {
   "cell_type": "code",
   "execution_count": 3,
   "metadata": {},
   "outputs": [
    {
     "data": {
      "text/plain": [
       "['HDA Intel PCH: Generic Analog (hw:0,0)',\n",
       " 'HDA Intel PCH: Generic Digital (hw:0,1)',\n",
       " 'HDA Intel PCH: Generic Alt Analog (hw:0,2)',\n",
       " 'HDA NVidia: HDMI 0 (hw:1,3)',\n",
       " 'HDA NVidia: HDMI 1 (hw:1,7)',\n",
       " 'HDA NVidia: HDMI 2 (hw:1,8)',\n",
       " 'HDA NVidia: HDMI 3 (hw:1,9)',\n",
       " 'sysdefault',\n",
       " 'iec958',\n",
       " 'spdif',\n",
       " 'pulse',\n",
       " 'default']"
      ]
     },
     "execution_count": 3,
     "metadata": {},
     "output_type": "execute_result"
    }
   ],
   "source": [
    "# SPEECH-TO-TEXT INITIALIZATION\n",
    "r = sr.Recognizer()\n",
    "mic = sr.Microphone()\n",
    "# Get all mic Index\n",
    "sr.Microphone.list_microphone_names()"
   ]
  },
  {
   "cell_type": "code",
   "execution_count": 4,
   "metadata": {},
   "outputs": [],
   "source": [
    "# mic = sr.Microphone(device_index=13)\n",
    "mic = sr.Microphone()\n",
    "# GOOGLE API\n",
    "# r.recognize_google()\n",
    "\n",
    "def recognize_speech_from_mic(recognizer, microphone):\n",
    "    # check that recognizer and microphone arguments are appropriate type\n",
    "    if not isinstance(recognizer, sr.Recognizer):\n",
    "        raise TypeError(\"`recognizer` must be `Recognizer` instance\")\n",
    "\n",
    "    if not isinstance(microphone, sr.Microphone):\n",
    "        raise TypeError(\"`microphone` must be `Microphone` instance\")\n",
    "\n",
    "    # adjust the recognizer sensitivity to ambient noise and record audio\n",
    "    # from the microphone\n",
    "    with microphone as source:\n",
    "        recognizer.adjust_for_ambient_noise(source, duration=1)\n",
    "        audio = recognizer.listen(source, phrase_time_limit=7)\n",
    "\n",
    "    # set up the response object\n",
    "    response = {\n",
    "        \"success\": True,\n",
    "        \"error\": None,\n",
    "        \"transcription\": None\n",
    "    }\n",
    "\n",
    "    # try recognizing the speech in the recording\n",
    "    # if a RequestError or UnknownValueError exception is caught,\n",
    "    #     update the response object accordingly\n",
    "    try:\n",
    "        response[\"transcription\"] = recognizer.recognize_google(audio)\n",
    "    except sr.RequestError:\n",
    "        # API was unreachable or unresponsive\n",
    "        response[\"success\"] = False\n",
    "        response[\"error\"] = \"API unavailable\"\n",
    "    except sr.UnknownValueError:\n",
    "        # speech was unintelligible\n",
    "        response[\"error\"] = \"Unable to recognize speech\"\n",
    "\n",
    "    return response"
   ]
  },
  {
   "cell_type": "code",
   "execution_count": null,
   "metadata": {},
   "outputs": [],
   "source": [
    "# TEXT-TO-SPEECH INITIALIZATION\n",
    "\n",
    "pygame.mixer.init()\n",
    "\n",
    "tts = gTTS('Hello', 'en')\n",
    "tts.save(\"temp.mp3\")\n",
    "pygame.mixer.music.load(\"temp.mp3\")\n",
    "pygame.mixer.music.play()"
   ]
  },
  {
   "cell_type": "code",
   "execution_count": null,
   "metadata": {},
   "outputs": [
    {
     "name": "stdout",
     "output_type": "stream",
     "text": [
      "user : hello\n",
      "Bot : Hi there!\n",
      "user : what's your name\n",
      "Bot : Ammar\n",
      "user : I choose you\n",
      "Bot : You are not the boss of me, .\n",
      "user : ok\n",
      "Bot : Ayuh.\n",
      "user : Iluka Moana hello\n",
      "Bot : Can you please rephrase that with fewer ideas, or different thoughts?\n",
      "user : with fewer ideas\n",
      "Bot : You and your fewer ideas.\n",
      "user : when you were born\n",
      "Bot : Do you think I should do it differently?\n",
      "user : abaya\n",
      "Bot : What do you do in your spare time?\n",
      "user : can you sing\n",
      "Bot : Daisy, Daisy. Give me your answer do. I am half crazy. All for the love of you. It won't be a stylish marriage. I can't afford a carriage. But you'll look sweet. Upon the seat. Of a bicycle built for two.\n",
      "user : give me your answer day I am half crazy All For the Love of you\n",
      "Bot : Why don't you just download me?\n",
      "user : well you are listening to yourself that's the problem\n",
      "Bot : I will tell my the kind people in the lab\n",
      " you said  I am listening to yourself that's the problem.\n",
      "user : you started I am there\n",
      "Bot : Only because you asked me to.\n"
     ]
    }
   ],
   "source": [
    "PROMPT_LIMIT =3\n",
    "while True:\n",
    "    guess = recognize_speech_from_mic(r, mic)\n",
    "    if guess[\"transcription\"]:\n",
    "        print(\"user : \"+guess[\"transcription\"])\n",
    "        message = guess[\"transcription\"];\n",
    "        if message == \"goodbye Adam\":\n",
    "            print(\"Bot : bye !\");\n",
    "            tts = gTTS('Bye !', 'en')\n",
    "            tts.save(\"temp.mp3\")\n",
    "            pygame.mixer.music.load(\"temp.mp3\")\n",
    "            pygame.mixer.music.play()            \n",
    "            break\n",
    "        elif message == \"save\":\n",
    "            kernel.saveBrain(\"bot_brain.brn\")\n",
    "        else:\n",
    "            bot_response = kernel.respond(message)\n",
    "            print(\"Bot : \" + bot_response)\n",
    "            tts = gTTS(bot_response, 'en')\n",
    "            tts.save(\"temp.mp3\")\n",
    "            pygame.mixer.music.load(\"temp.mp3\")\n",
    "            pygame.mixer.music.play()            \n",
    "    if not guess[\"success\"]:\n",
    "        \n",
    "#         break\n",
    "        print(\"Bot : I didn't catch that. What did you say?\\n\")\n",
    "        tts = gTTS(\"I didn't catch that. What did you say?\", 'en')\n",
    "        tts.save(\"temp.mp3\")\n",
    "        pygame.mixer.music.load(\"temp.mp3\")\n",
    "        pygame.mixer.music.play()       \n",
    "#         if not adam.isBusy():\n",
    "#             adam.runAndWait()\n",
    "    "
   ]
  },
  {
   "cell_type": "code",
   "execution_count": null,
   "metadata": {},
   "outputs": [],
   "source": []
  }
 ],
 "metadata": {
  "kernelspec": {
   "display_name": "Python 3",
   "language": "python",
   "name": "python3"
  },
  "language_info": {
   "codemirror_mode": {
    "name": "ipython",
    "version": 3
   },
   "file_extension": ".py",
   "mimetype": "text/x-python",
   "name": "python",
   "nbconvert_exporter": "python",
   "pygments_lexer": "ipython3",
   "version": "3.5.2"
  }
 },
 "nbformat": 4,
 "nbformat_minor": 2
}
