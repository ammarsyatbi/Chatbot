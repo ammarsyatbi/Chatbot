{
 "cells": [
  {
   "cell_type": "code",
   "execution_count": 1,
   "metadata": {},
   "outputs": [],
   "source": [
    "import aiml\n",
    "import os"
   ]
  },
  {
   "cell_type": "code",
   "execution_count": 2,
   "metadata": {},
   "outputs": [],
   "source": [
    "def load_bot_properties(kernel, filename):\n",
    "    properties_file = open(filename)\n",
    "    for line in properties_file:\n",
    "      parts = line.split('=')\n",
    "      key = parts[0]\n",
    "      value = parts[1]\n",
    "      kernel.setBotPredicate(key, value)\n",
    "    print('Done initializing chatbot.')"
   ]
  },
  {
   "cell_type": "code",
   "execution_count": 3,
   "metadata": {},
   "outputs": [
    {
     "name": "stdout",
     "output_type": "stream",
     "text": [
      "Loading std-startup.xml...done (0.02 seconds)\n",
      "Loading basic_chat.aiml...done (0.00 seconds)\n",
      "Loading search_intern.aiml...done (0.00 seconds)\n",
      "Loading alice/sports.aiml...done (0.00 seconds)\n",
      "Loading alice/that.aiml...done (0.05 seconds)\n",
      "Loading alice/science.aiml...done (0.00 seconds)\n",
      "Loading alice/computers.aiml...done (0.00 seconds)\n",
      "Loading alice/alice.aiml...done (0.01 seconds)\n",
      "Loading alice/mp1.aiml...done (0.15 seconds)\n",
      "Loading alice/reduction.names.aiml...done (0.15 seconds)\n",
      "Loading alice/mp3.aiml...done (0.18 seconds)\n",
      "Loading alice/humor.aiml...done (0.00 seconds)\n",
      "Loading alice/personality.aiml...done (0.00 seconds)\n",
      "Loading alice/knowledge.aiml...done (0.05 seconds)\n",
      "Loading alice/stack.aiml...done (0.00 seconds)\n",
      "Loading alice/reduction2.safe.aiml...done (0.10 seconds)\n",
      "Loading alice/update1.aiml...done (0.10 seconds)\n",
      "Loading alice/inquiry.aiml...done (0.00 seconds)\n",
      "Loading alice/phone.aiml...done (0.00 seconds)\n",
      "Loading alice/continuation.aiml...done (0.00 seconds)\n",
      "Loading alice/salutations.aiml...done (0.00 seconds)\n",
      "Loading alice/ai.aiml...done (0.01 seconds)\n",
      "Loading alice/wallace.aiml...done (0.02 seconds)\n",
      "Loading alice/client.aiml...done (0.04 seconds)\n",
      "Loading alice/psychology.aiml...done (0.02 seconds)\n",
      "Loading alice/sex.aiml...done (0.00 seconds)\n",
      "Loading alice/history.aiml...done (0.00 seconds)\n",
      "Loading alice/biography.aiml...done (0.02 seconds)\n",
      "Loading alice/mp6.aiml...done (0.14 seconds)\n",
      "Loading alice/loebner10.aiml...done (0.00 seconds)\n",
      "Loading alice/literature.aiml...done (0.00 seconds)\n",
      "Loading alice/mp0.aiml...done (0.14 seconds)\n",
      "Loading alice/client_profile.aiml...done (0.01 seconds)\n",
      "Loading alice/date.aiml...done (0.00 seconds)\n",
      "Loading alice/reduction4.safe.aiml...done (0.20 seconds)\n",
      "Loading alice/mp5.aiml...done (0.12 seconds)\n",
      "Loading alice/reduction0.safe.aiml...done (0.30 seconds)\n",
      "Loading alice/stories.aiml...done (0.01 seconds)\n",
      "Loading alice/geography.aiml...done (0.03 seconds)\n",
      "Loading alice/mp2.aiml...done (0.13 seconds)\n",
      "Loading alice/astrology.aiml...done (0.00 seconds)\n",
      "Loading alice/emotion.aiml...done (0.00 seconds)\n",
      "Loading alice/iu.aiml...done (0.00 seconds)\n",
      "Loading alice/music.aiml...done (0.00 seconds)\n",
      "Loading alice/food.aiml...done (0.00 seconds)\n",
      "Loading alice/reduction3.safe.aiml...done (0.11 seconds)\n",
      "Loading alice/money.aiml...done (0.00 seconds)\n",
      "Loading alice/interjection.aiml...done (0.00 seconds)\n",
      "Loading alice/movies.aiml...done (0.00 seconds)\n",
      "Loading alice/imponderables.aiml...done (0.00 seconds)\n",
      "Loading alice/xfind.aiml...done (0.00 seconds)\n",
      "Loading alice/atomic.aiml...done (0.08 seconds)\n",
      "Loading alice/bot_profile.aiml...done (0.00 seconds)\n",
      "Loading alice/drugs.aiml...done (0.00 seconds)\n",
      "Loading alice/bot.aiml...done (0.22 seconds)\n",
      "Loading alice/pickup.aiml...done (0.00 seconds)\n",
      "Loading alice/mp4.aiml...done (0.12 seconds)\n",
      "Loading alice/numbers.aiml...done (0.01 seconds)\n",
      "Loading alice/default.aiml...done (0.14 seconds)\n",
      "Loading alice/update_mccormick.aiml...done (0.00 seconds)\n",
      "Loading alice/reductions-update.aiml...done (0.00 seconds)\n",
      "Loading alice/reduction1.safe.aiml...done (0.16 seconds)\n",
      "Loading alice/religion.aiml...done (0.01 seconds)\n",
      "Loading alice/gossip.aiml...done (0.00 seconds)\n",
      "Loading alice/politics.aiml...done (0.00 seconds)\n",
      "Loading alice/primeminister.aiml...done (0.00 seconds)\n",
      "\n",
      "Kernel bootstrap completed in 2.89 seconds\n",
      "Done initializing chatbot.\n"
     ]
    }
   ],
   "source": [
    "kernel = aiml.Kernel()\n",
    "sessionId = 12345\n",
    "\n",
    "# Get session info as dictionary. Contains the input\n",
    "# and output history as well as any predicates known\n",
    "sessionData = kernel.getSessionData(sessionId)\n",
    "\n",
    "# Each session ID needs to be a unique value\n",
    "# The predicate name is the name of something/someone\n",
    "# that the bot knows about in your session with the bot\n",
    "# The bot might know you as \"Billy\" and that your \"dog\" is named \"Brandy\"\n",
    "# kernel.setPredicate(\"cat\", \"Django\", sessionId)\n",
    "# clients_dogs_name = kernel.getPredicate(\"cat\", sessionId)\n",
    "\n",
    "kernel.setBotPredicate(\"hometown\", \"127.0.0.1\")\n",
    "bot_hometown = kernel.getBotPredicate(\"hometown\")\n",
    "\n",
    "if os.path.isfile(\"bot_brain.brn\"):\n",
    "    kernel.bootstrap(brainFile = \"bot_brain.brn\")\n",
    "else:\n",
    "    kernel.bootstrap(learnFiles = \"std-startup.xml\", commands = \"load aiml b\")\n",
    "#     kernel.saveBrain(\"bot_brain.brn\")\n",
    "# kernel now ready for use\n",
    "load_bot_properties(kernel, \"bot.properties\")"
   ]
  },
  {
   "cell_type": "code",
   "execution_count": null,
   "metadata": {},
   "outputs": [
    {
     "name": "stdout",
     "output_type": "stream",
     "text": [
      "Enter your message to the bot: hi\n",
      "Hi there!\n",
      "Enter your message to the bot: whats my name ?\n",
      "I don't know. What is your name?\n",
      "Enter your message to the bot: ammar\n",
      "How are you doing, Ammar.\n",
      "Enter your message to the bot: fine\n",
      "Tell me more.\n",
      "Enter your message to the bot: what is my name ?\n",
      "I don't know. What is your name?\n",
      "Enter your message to the bot: my name is ammar\n",
      "How can I help you, Ammar.\n",
      "Enter your message to the bot: whats my name ?\n",
      "I don't know. What is your name?\n",
      "Enter your message to the bot: s\n",
      ":-)\n",
      "Enter your message to the bot: my name is ammar\n"
     ]
    },
    {
     "name": "stderr",
     "output_type": "stream",
     "text": [
      "WARNING: No match found for input: my name is ammar\n"
     ]
    },
    {
     "name": "stdout",
     "output_type": "stream",
     "text": [
      "\n",
      "Enter your message to the bot: my name is ammar\n",
      "I am very pleased to meet you Ammar.\n",
      "Enter your message to the bot: what is my name ?\n",
      "I don't know. What is your name?\n",
      "Enter your message to the bot: whats my name\n",
      "I don't know. What is your name?\n",
      "Enter your message to the bot: call me ammar\n",
      "What's up, Ammar.\n",
      "Enter your message to the bot: whats my name\n",
      "I don't know. What is your name?\n"
     ]
    }
   ],
   "source": [
    "\n",
    "\n",
    "# ctrl + c to stop chatting\n",
    "while True:\n",
    "    message = input(\"Enter your message to the bot: \")\n",
    "    if message == \"quit\":\n",
    "        print(\"bye !\")\n",
    "        break\n",
    "    elif message == \"save\":\n",
    "        kernel.saveBrain(\"bot_brain.brn\")\n",
    "    else:\n",
    "        bot_response = kernel.respond(message)\n",
    "        print(bot_response)\n",
    "        # Do something with bot_response"
   ]
  },
  {
   "cell_type": "code",
   "execution_count": null,
   "metadata": {},
   "outputs": [],
   "source": [
    "\n"
   ]
  }
 ],
 "metadata": {
  "kernelspec": {
   "display_name": "Python 3",
   "language": "python",
   "name": "python3"
  },
  "language_info": {
   "codemirror_mode": {
    "name": "ipython",
    "version": 3
   },
   "file_extension": ".py",
   "mimetype": "text/x-python",
   "name": "python",
   "nbconvert_exporter": "python",
   "pygments_lexer": "ipython3",
   "version": "3.5.2"
  }
 },
 "nbformat": 4,
 "nbformat_minor": 2
}
