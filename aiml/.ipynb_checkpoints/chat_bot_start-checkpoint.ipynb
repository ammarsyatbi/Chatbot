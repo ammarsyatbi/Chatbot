{
 "cells": [
  {
   "cell_type": "code",
   "execution_count": 1,
   "metadata": {},
   "outputs": [],
   "source": [
    "import aiml\n",
    "import os"
   ]
  },
  {
   "cell_type": "code",
   "execution_count": 2,
   "metadata": {},
   "outputs": [],
   "source": [
    "def load_bot_properties(kernel, filename):\n",
    "    properties_file = open(filename)\n",
    "    for line in properties_file:\n",
    "      parts = line.split('=')\n",
    "      key = parts[0]\n",
    "      value = parts[1]\n",
    "      kernel.setBotPredicate(key, value)\n",
    "    print('Done initializing chatbot.')"
   ]
  },
  {
   "cell_type": "code",
   "execution_count": 3,
   "metadata": {},
   "outputs": [
    {
     "name": "stdout",
     "output_type": "stream",
     "text": [
      "Loading std-startup.xml...done (0.01 seconds)\n",
      "Loading basic_chat.aiml...done (0.00 seconds)\n",
      "Loading search_intern.aiml...done (0.00 seconds)\n",
      "\n",
      "Kernel bootstrap completed in 0.02 seconds\n",
      "Done initializing chatbot.\n"
     ]
    }
   ],
   "source": [
    "kernel = aiml.Kernel()\n",
    "sessionId = 12345\n",
    "\n",
    "# Get session info as dictionary. Contains the input\n",
    "# and output history as well as any predicates known\n",
    "sessionData = kernel.getSessionData(sessionId)\n",
    "\n",
    "# Each session ID needs to be a unique value\n",
    "# The predicate name is the name of something/someone\n",
    "# that the bot knows about in your session with the bot\n",
    "# The bot might know you as \"Billy\" and that your \"dog\" is named \"Brandy\"\n",
    "# kernel.setPredicate(\"cat\", \"Django\", sessionId)\n",
    "# clients_dogs_name = kernel.getPredicate(\"cat\", sessionId)\n",
    "\n",
    "kernel.setBotPredicate(\"hometown\", \"127.0.0.1\")\n",
    "bot_hometown = kernel.getBotPredicate(\"hometown\")\n",
    "\n",
    "if os.path.isfile(\"bot_brain.brn\"):\n",
    "    kernel.bootstrap(brainFile = \"bot_brain.brn\")\n",
    "else:\n",
    "    kernel.bootstrap(learnFiles = \"std-startup.xml\", commands = \"load aiml b\")\n",
    "#     kernel.saveBrain(\"bot_brain.brn\")\n",
    "# kernel now ready for use\n",
    "load_bot_properties(kernel, \"bot.properties\")"
   ]
  },
  {
   "cell_type": "code",
   "execution_count": 4,
   "metadata": {},
   "outputs": [
    {
     "name": "stdout",
     "output_type": "stream",
     "text": [
      "Enter your message to the bot: hello\n",
      "Hi !\n",
      "Enter your message to the bot: hello\n",
      "Hello !\n",
      "Enter your message to the bot: assalamualaikum\n",
      "Waalaikummussalam\n",
      "Enter your message to the bot: what is robopreneur?\n",
      "Robopreneur Sdn Bhd is a fast-growing robotics company based in Malaysia, established in 2015 as a start-up company of UiTM, where currently expanding to become fully corporate robotics company with 25 in-house talent based at the newly setup office in Futurise Centre, Cyberjaya. Robopreneur is a robotic solution provider company that provides High End Service Robotics, Artificial Intelligence solutions, 3D Printing and Digital Media services.\n",
      "Enter your message to the bot: where are you right now ?\n",
      "always in your heart\n",
      "Enter your message to the bot: what are you ?\n",
      "I'm a bot, silly!\n",
      "Enter your message to the bot: siapa kamu ?\n"
     ]
    },
    {
     "name": "stderr",
     "output_type": "stream",
     "text": [
      "WARNING: No match found for input: siapa kamu\n"
     ]
    },
    {
     "name": "stdout",
     "output_type": "stream",
     "text": [
      "\n",
      "Enter your message to the bot: quit\n",
      "bye !\n"
     ]
    }
   ],
   "source": [
    "\n",
    "\n",
    "# ctrl + c to stop chatting\n",
    "while True:\n",
    "    message = input(\"Enter your message to the bot: \")\n",
    "    if message == \"quit\":\n",
    "        print(\"bye !\")\n",
    "        break\n",
    "    elif message == \"save\":\n",
    "        kernel.saveBrain(\"bot_brain.brn\")\n",
    "    else:\n",
    "        bot_response = kernel.respond(message)\n",
    "        print(bot_response)\n",
    "        # Do something with bot_response"
   ]
  },
  {
   "cell_type": "code",
   "execution_count": null,
   "metadata": {},
   "outputs": [],
   "source": []
  }
 ],
 "metadata": {
  "kernelspec": {
   "display_name": "Python 3",
   "language": "python",
   "name": "python3"
  },
  "language_info": {
   "codemirror_mode": {
    "name": "ipython",
    "version": 3
   },
   "file_extension": ".py",
   "mimetype": "text/x-python",
   "name": "python",
   "nbconvert_exporter": "python",
   "pygments_lexer": "ipython3",
   "version": "3.5.2"
  }
 },
 "nbformat": 4,
 "nbformat_minor": 2
}
