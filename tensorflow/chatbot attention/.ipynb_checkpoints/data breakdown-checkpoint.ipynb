{
 "cells": [
  {
   "cell_type": "code",
   "execution_count": 1,
   "metadata": {},
   "outputs": [],
   "source": [
    "fromtext = \"saya suka makan roti \\n kerja saya buat otak robot\"\n",
    "fromtext = fromtext.split('\\n')"
   ]
  },
  {
   "cell_type": "code",
   "execution_count": 2,
   "metadata": {},
   "outputs": [
    {
     "name": "stdout",
     "output_type": "stream",
     "text": [
      "['saya', 'suka', 'makan', 'roti', 'kerja', 'saya', 'buat', 'otak', 'robot']\n"
     ]
    }
   ],
   "source": [
    "vocab_input = []\n",
    "vocab_input += fromtext[0].split()\n",
    "vocab_input += fromtext[1].split()\n",
    "print(vocab_input)"
   ]
  },
  {
   "cell_type": "code",
   "execution_count": 3,
   "metadata": {},
   "outputs": [
    {
     "name": "stdout",
     "output_type": "stream",
     "text": [
      "['saya', 'saya', 'suka', 'makan', 'roti', 'kerja', 'buat', 'otak', 'robot']\n"
     ]
    }
   ],
   "source": [
    "vocab_input = sorted(vocab_input, key = vocab_input.count,reverse = True)\n",
    "print(vocab_input)"
   ]
  },
  {
   "cell_type": "code",
   "execution_count": 4,
   "metadata": {},
   "outputs": [
    {
     "name": "stdout",
     "output_type": "stream",
     "text": [
      "9\n"
     ]
    }
   ],
   "source": [
    "d1 = dict((k,v) for v,k in enumerate(reversed(vocab_input)))\n",
    "print(len(vocab_input))"
   ]
  },
  {
   "cell_type": "code",
   "execution_count": 5,
   "metadata": {},
   "outputs": [
    {
     "name": "stdout",
     "output_type": "stream",
     "text": [
      "{'roti': 4, 'buat': 2, 'kerja': 3, 'saya': 8, 'suka': 6, 'makan': 5, 'otak': 1, 'robot': 0}\n"
     ]
    }
   ],
   "source": [
    "print(d1)"
   ]
  },
  {
   "cell_type": "code",
   "execution_count": 6,
   "metadata": {},
   "outputs": [
    {
     "name": "stdout",
     "output_type": "stream",
     "text": [
      "11\n"
     ]
    }
   ],
   "source": [
    "vocab_input = ['PAD', 'EOS', 'UNK'] + sorted(d1, key = d1.get, reverse = True)\n",
    "print(len(vocab_input))"
   ]
  },
  {
   "cell_type": "code",
   "execution_count": 7,
   "metadata": {},
   "outputs": [
    {
     "name": "stdout",
     "output_type": "stream",
     "text": [
      "['PAD', 'EOS', 'UNK', 'saya', 'suka', 'makan', 'roti', 'kerja', 'buat', 'otak', 'robot']\n"
     ]
    }
   ],
   "source": [
    "print(vocab_input)"
   ]
  },
  {
   "cell_type": "code",
   "execution_count": 8,
   "metadata": {},
   "outputs": [],
   "source": [
    "dict_inputs = dict(zip(vocab_input, [i for i in range(len(vocab_input))]))"
   ]
  },
  {
   "cell_type": "code",
   "execution_count": 9,
   "metadata": {},
   "outputs": [
    {
     "name": "stdout",
     "output_type": "stream",
     "text": [
      "{'roti': 6, 'UNK': 2, 'buat': 8, 'kerja': 7, 'saya': 3, 'EOS': 1, 'suka': 4, 'robot': 10, 'PAD': 0, 'makan': 5, 'otak': 9}\n"
     ]
    }
   ],
   "source": [
    "print(dict_inputs)"
   ]
  },
  {
   "cell_type": "code",
   "execution_count": 10,
   "metadata": {},
   "outputs": [
    {
     "name": "stdout",
     "output_type": "stream",
     "text": [
      "{'roti': 6, 'UNK': 2, 'buat': 8, 'kerja': 7, 'saya': 3, 'EOS': 1, 'suka': 4, 'robot': 10, 'PAD': 0, 'makan': 5, 'otak': 9}\n"
     ]
    }
   ],
   "source": [
    "dict_inputs = dict(zip(vocab_input, [i for i in range(len(vocab_input))]))\n",
    "print(dict_inputs)"
   ]
  },
  {
   "cell_type": "code",
   "execution_count": 11,
   "metadata": {},
   "outputs": [
    {
     "data": {
      "text/plain": [
       "['test', 'test', 'test', '123']"
      ]
     },
     "execution_count": 11,
     "metadata": {},
     "output_type": "execute_result"
    }
   ],
   "source": [
    "vocab = ['test' , 'test', 'test' ,'123']\n",
    "vocab"
   ]
  },
  {
   "cell_type": "code",
   "execution_count": 12,
   "metadata": {},
   "outputs": [],
   "source": [
    "kamus = dict((k,v) for v,k in enumerate(vocab))"
   ]
  },
  {
   "cell_type": "code",
   "execution_count": 16,
   "metadata": {},
   "outputs": [
    {
     "data": {
      "text/plain": [
       "{'123': 3, 'kuncibaru': 2, 'test': 4}"
      ]
     },
     "execution_count": 16,
     "metadata": {},
     "output_type": "execute_result"
    }
   ],
   "source": [
    "kamus['test'] += 1\n",
    "kamus\n",
    "\n",
    "# add new key\n",
    "kamus['kuncibaru'] = 1+1\n",
    "kamus\n"
   ]
  },
  {
   "cell_type": "code",
   "execution_count": null,
   "metadata": {},
   "outputs": [],
   "source": []
  }
 ],
 "metadata": {
  "kernelspec": {
   "display_name": "Python 3",
   "language": "python",
   "name": "python3"
  },
  "language_info": {
   "codemirror_mode": {
    "name": "ipython",
    "version": 3
   },
   "file_extension": ".py",
   "mimetype": "text/x-python",
   "name": "python",
   "nbconvert_exporter": "python",
   "pygments_lexer": "ipython3",
   "version": "3.5.2"
  }
 },
 "nbformat": 4,
 "nbformat_minor": 2
}
